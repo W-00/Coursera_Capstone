{
    "cells": [
        {
            "cell_type": "markdown",
            "metadata": {
                "collapsed": true
            },
            "source": "  # 1. Introduction"
        },
        {
            "cell_type": "markdown",
            "metadata": {},
            "source": "In this project, I'm going to find an optimal location for opening a Chinese restaurant in New York City.Since there are lots of restaurants opening in New York City, the first thing that needs to be done is finding areas not covered by crowded restaurants, especially Chinese restaurants. Some additional conditions could be closer to the city center or a higher Asian population (potential major customer group).\nThe results should be a list of possible neighborhoods based on the criteria above. Analysis of results will be given to stakeholders as a reference to find out their optimal location."
        },
        {
            "cell_type": "markdown",
            "metadata": {},
            "source": "# 2. Data"
        },
        {
            "cell_type": "markdown",
            "metadata": {},
            "source": "The data sources are:\n* Centers of candidate areas will be generated algorithmically and approximate addresses of centers of those areas will be obtained using **Google Maps API reverse geocoding**\n* Number, type and location of restaurants will be obtained by **Foursquare API**\n* Coordinate of NYC center will be obtained using **Google Maps API geocoding** \n* Census information will be obtained on **https://www.census.gov/**\n\nThe data need to collect are:\n* Number of existing restaurants in the neighborhood (mark Chinese restaurants and numbers)\n* Distance to Chinese restaurants in the neighborhood\n* Distance from neighborhood to the city center (Euclidean distance)\n* Asian population distribution"
        }
    ],
    "metadata": {
        "kernelspec": {
            "display_name": "Python 3.6",
            "language": "python",
            "name": "python3"
        },
        "language_info": {
            "codemirror_mode": {
                "name": "ipython",
                "version": 3
            },
            "file_extension": ".py",
            "mimetype": "text/x-python",
            "name": "python",
            "nbconvert_exporter": "python",
            "pygments_lexer": "ipython3",
            "version": "3.6.9"
        }
    },
    "nbformat": 4,
    "nbformat_minor": 1
}